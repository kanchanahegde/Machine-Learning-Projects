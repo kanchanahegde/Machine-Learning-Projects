{
 "cells": [
  {
   "cell_type": "code",
   "execution_count": 1,
   "metadata": {
    "scrolled": true
   },
   "outputs": [
    {
     "name": "stderr",
     "output_type": "stream",
     "text": [
      "/home/kanchana/anaconda3/lib/python3.6/importlib/_bootstrap.py:205: RuntimeWarning: compiletime version 3.5 of module 'tensorflow.python.framework.fast_tensor_util' does not match runtime version 3.6\n",
      "  return f(*args, **kwds)\n"
     ]
    }
   ],
   "source": [
    "import tensorflow as tf\n",
    "import pickle\n",
    "import pandas as pd\n",
    "import numpy as np\n",
    "from sklearn.preprocessing import StandardScaler\n"
   ]
  },
  {
   "cell_type": "code",
   "execution_count": 2,
   "metadata": {
    "collapsed": true
   },
   "outputs": [],
   "source": [
    "X=tf.placeholder(tf.float32, shape=[None,784])\n",
    "y=tf.placeholder(tf.float32,shape=[None,10])\n"
   ]
  },
  {
   "cell_type": "code",
   "execution_count": 3,
   "metadata": {
    "collapsed": true
   },
   "outputs": [],
   "source": [
    "W=tf.Variable(tf.zeros([784,10]))\n",
    "b=tf.Variable(tf.zeros([10]))"
   ]
  },
  {
   "cell_type": "code",
   "execution_count": 4,
   "metadata": {
    "collapsed": true
   },
   "outputs": [],
   "source": [
    "with open('Data/train_X.p', 'rb') as f:\n",
    "    train_X = pickle.load(f)\n",
    "with open('Data/train_y.p', 'rb') as f:\n",
    "    train_y = pickle.load(f)\n",
    "with open('Data/test_X.p', 'rb') as f:\n",
    "    test_X = pickle.load(f)\n",
    "with open('Data/test_y.p', 'rb') as f:\n",
    "    test_y = pickle.load(f)\n",
    "with open('Data/val_X.p', 'rb') as f:\n",
    "    val_X = pickle.load(f)\n",
    "with open('Data/val_y.p', 'rb') as f:\n",
    "    val_y = pickle.load(f)"
   ]
  },
  {
   "cell_type": "code",
   "execution_count": 5,
   "metadata": {},
   "outputs": [
    {
     "data": {
      "text/html": [
       "<div>\n",
       "<style scoped>\n",
       "    .dataframe tbody tr th:only-of-type {\n",
       "        vertical-align: middle;\n",
       "    }\n",
       "\n",
       "    .dataframe tbody tr th {\n",
       "        vertical-align: top;\n",
       "    }\n",
       "\n",
       "    .dataframe thead th {\n",
       "        text-align: right;\n",
       "    }\n",
       "</style>\n",
       "<table border=\"1\" class=\"dataframe\">\n",
       "  <thead>\n",
       "    <tr style=\"text-align: right;\">\n",
       "      <th></th>\n",
       "      <th>pixel1</th>\n",
       "      <th>pixel2</th>\n",
       "      <th>pixel3</th>\n",
       "      <th>pixel4</th>\n",
       "      <th>pixel5</th>\n",
       "      <th>pixel6</th>\n",
       "      <th>pixel7</th>\n",
       "      <th>pixel8</th>\n",
       "      <th>pixel9</th>\n",
       "      <th>pixel10</th>\n",
       "      <th>...</th>\n",
       "      <th>pixel775</th>\n",
       "      <th>pixel776</th>\n",
       "      <th>pixel777</th>\n",
       "      <th>pixel778</th>\n",
       "      <th>pixel779</th>\n",
       "      <th>pixel780</th>\n",
       "      <th>pixel781</th>\n",
       "      <th>pixel782</th>\n",
       "      <th>pixel783</th>\n",
       "      <th>pixel784</th>\n",
       "    </tr>\n",
       "  </thead>\n",
       "  <tbody>\n",
       "    <tr>\n",
       "      <th>0</th>\n",
       "      <td>0</td>\n",
       "      <td>0</td>\n",
       "      <td>0</td>\n",
       "      <td>0</td>\n",
       "      <td>0</td>\n",
       "      <td>0</td>\n",
       "      <td>0</td>\n",
       "      <td>0</td>\n",
       "      <td>0</td>\n",
       "      <td>0</td>\n",
       "      <td>...</td>\n",
       "      <td>0</td>\n",
       "      <td>0</td>\n",
       "      <td>0</td>\n",
       "      <td>0</td>\n",
       "      <td>0</td>\n",
       "      <td>0</td>\n",
       "      <td>0</td>\n",
       "      <td>0</td>\n",
       "      <td>0</td>\n",
       "      <td>0</td>\n",
       "    </tr>\n",
       "    <tr>\n",
       "      <th>1</th>\n",
       "      <td>0</td>\n",
       "      <td>0</td>\n",
       "      <td>0</td>\n",
       "      <td>0</td>\n",
       "      <td>0</td>\n",
       "      <td>0</td>\n",
       "      <td>0</td>\n",
       "      <td>0</td>\n",
       "      <td>0</td>\n",
       "      <td>0</td>\n",
       "      <td>...</td>\n",
       "      <td>0</td>\n",
       "      <td>0</td>\n",
       "      <td>0</td>\n",
       "      <td>0</td>\n",
       "      <td>0</td>\n",
       "      <td>0</td>\n",
       "      <td>0</td>\n",
       "      <td>0</td>\n",
       "      <td>0</td>\n",
       "      <td>0</td>\n",
       "    </tr>\n",
       "    <tr>\n",
       "      <th>2</th>\n",
       "      <td>0</td>\n",
       "      <td>0</td>\n",
       "      <td>0</td>\n",
       "      <td>0</td>\n",
       "      <td>0</td>\n",
       "      <td>0</td>\n",
       "      <td>0</td>\n",
       "      <td>5</td>\n",
       "      <td>0</td>\n",
       "      <td>0</td>\n",
       "      <td>...</td>\n",
       "      <td>0</td>\n",
       "      <td>0</td>\n",
       "      <td>0</td>\n",
       "      <td>30</td>\n",
       "      <td>43</td>\n",
       "      <td>0</td>\n",
       "      <td>0</td>\n",
       "      <td>0</td>\n",
       "      <td>0</td>\n",
       "      <td>0</td>\n",
       "    </tr>\n",
       "    <tr>\n",
       "      <th>3</th>\n",
       "      <td>0</td>\n",
       "      <td>0</td>\n",
       "      <td>0</td>\n",
       "      <td>1</td>\n",
       "      <td>2</td>\n",
       "      <td>0</td>\n",
       "      <td>0</td>\n",
       "      <td>0</td>\n",
       "      <td>0</td>\n",
       "      <td>0</td>\n",
       "      <td>...</td>\n",
       "      <td>3</td>\n",
       "      <td>0</td>\n",
       "      <td>0</td>\n",
       "      <td>0</td>\n",
       "      <td>0</td>\n",
       "      <td>1</td>\n",
       "      <td>0</td>\n",
       "      <td>0</td>\n",
       "      <td>0</td>\n",
       "      <td>0</td>\n",
       "    </tr>\n",
       "    <tr>\n",
       "      <th>4</th>\n",
       "      <td>0</td>\n",
       "      <td>0</td>\n",
       "      <td>0</td>\n",
       "      <td>0</td>\n",
       "      <td>0</td>\n",
       "      <td>0</td>\n",
       "      <td>0</td>\n",
       "      <td>0</td>\n",
       "      <td>0</td>\n",
       "      <td>0</td>\n",
       "      <td>...</td>\n",
       "      <td>0</td>\n",
       "      <td>0</td>\n",
       "      <td>0</td>\n",
       "      <td>0</td>\n",
       "      <td>0</td>\n",
       "      <td>0</td>\n",
       "      <td>0</td>\n",
       "      <td>0</td>\n",
       "      <td>0</td>\n",
       "      <td>0</td>\n",
       "    </tr>\n",
       "  </tbody>\n",
       "</table>\n",
       "<p>5 rows × 784 columns</p>\n",
       "</div>"
      ],
      "text/plain": [
       "   pixel1  pixel2  pixel3  pixel4  pixel5  pixel6  pixel7  pixel8  pixel9  \\\n",
       "0       0       0       0       0       0       0       0       0       0   \n",
       "1       0       0       0       0       0       0       0       0       0   \n",
       "2       0       0       0       0       0       0       0       5       0   \n",
       "3       0       0       0       1       2       0       0       0       0   \n",
       "4       0       0       0       0       0       0       0       0       0   \n",
       "\n",
       "   pixel10    ...     pixel775  pixel776  pixel777  pixel778  pixel779  \\\n",
       "0        0    ...            0         0         0         0         0   \n",
       "1        0    ...            0         0         0         0         0   \n",
       "2        0    ...            0         0         0        30        43   \n",
       "3        0    ...            3         0         0         0         0   \n",
       "4        0    ...            0         0         0         0         0   \n",
       "\n",
       "   pixel780  pixel781  pixel782  pixel783  pixel784  \n",
       "0         0         0         0         0         0  \n",
       "1         0         0         0         0         0  \n",
       "2         0         0         0         0         0  \n",
       "3         1         0         0         0         0  \n",
       "4         0         0         0         0         0  \n",
       "\n",
       "[5 rows x 784 columns]"
      ]
     },
     "execution_count": 5,
     "metadata": {},
     "output_type": "execute_result"
    }
   ],
   "source": [
    "train_X.head()"
   ]
  },
  {
   "cell_type": "code",
   "execution_count": 6,
   "metadata": {},
   "outputs": [
    {
     "data": {
      "text/html": [
       "<div>\n",
       "<style scoped>\n",
       "    .dataframe tbody tr th:only-of-type {\n",
       "        vertical-align: middle;\n",
       "    }\n",
       "\n",
       "    .dataframe tbody tr th {\n",
       "        vertical-align: top;\n",
       "    }\n",
       "\n",
       "    .dataframe thead th {\n",
       "        text-align: right;\n",
       "    }\n",
       "</style>\n",
       "<table border=\"1\" class=\"dataframe\">\n",
       "  <thead>\n",
       "    <tr style=\"text-align: right;\">\n",
       "      <th></th>\n",
       "      <th>0</th>\n",
       "      <th>1</th>\n",
       "      <th>2</th>\n",
       "      <th>3</th>\n",
       "      <th>4</th>\n",
       "      <th>5</th>\n",
       "      <th>6</th>\n",
       "      <th>7</th>\n",
       "      <th>8</th>\n",
       "      <th>9</th>\n",
       "    </tr>\n",
       "  </thead>\n",
       "  <tbody>\n",
       "    <tr>\n",
       "      <th>0</th>\n",
       "      <td>0</td>\n",
       "      <td>0</td>\n",
       "      <td>1</td>\n",
       "      <td>0</td>\n",
       "      <td>0</td>\n",
       "      <td>0</td>\n",
       "      <td>0</td>\n",
       "      <td>0</td>\n",
       "      <td>0</td>\n",
       "      <td>0</td>\n",
       "    </tr>\n",
       "    <tr>\n",
       "      <th>1</th>\n",
       "      <td>0</td>\n",
       "      <td>0</td>\n",
       "      <td>0</td>\n",
       "      <td>0</td>\n",
       "      <td>0</td>\n",
       "      <td>0</td>\n",
       "      <td>0</td>\n",
       "      <td>0</td>\n",
       "      <td>0</td>\n",
       "      <td>1</td>\n",
       "    </tr>\n",
       "    <tr>\n",
       "      <th>2</th>\n",
       "      <td>0</td>\n",
       "      <td>0</td>\n",
       "      <td>0</td>\n",
       "      <td>0</td>\n",
       "      <td>0</td>\n",
       "      <td>0</td>\n",
       "      <td>1</td>\n",
       "      <td>0</td>\n",
       "      <td>0</td>\n",
       "      <td>0</td>\n",
       "    </tr>\n",
       "    <tr>\n",
       "      <th>3</th>\n",
       "      <td>1</td>\n",
       "      <td>0</td>\n",
       "      <td>0</td>\n",
       "      <td>0</td>\n",
       "      <td>0</td>\n",
       "      <td>0</td>\n",
       "      <td>0</td>\n",
       "      <td>0</td>\n",
       "      <td>0</td>\n",
       "      <td>0</td>\n",
       "    </tr>\n",
       "    <tr>\n",
       "      <th>4</th>\n",
       "      <td>0</td>\n",
       "      <td>0</td>\n",
       "      <td>0</td>\n",
       "      <td>1</td>\n",
       "      <td>0</td>\n",
       "      <td>0</td>\n",
       "      <td>0</td>\n",
       "      <td>0</td>\n",
       "      <td>0</td>\n",
       "      <td>0</td>\n",
       "    </tr>\n",
       "  </tbody>\n",
       "</table>\n",
       "</div>"
      ],
      "text/plain": [
       "   0  1  2  3  4  5  6  7  8  9\n",
       "0  0  0  1  0  0  0  0  0  0  0\n",
       "1  0  0  0  0  0  0  0  0  0  1\n",
       "2  0  0  0  0  0  0  1  0  0  0\n",
       "3  1  0  0  0  0  0  0  0  0  0\n",
       "4  0  0  0  1  0  0  0  0  0  0"
      ]
     },
     "execution_count": 6,
     "metadata": {},
     "output_type": "execute_result"
    }
   ],
   "source": [
    "train_y.head()"
   ]
  },
  {
   "cell_type": "code",
   "execution_count": 7,
   "metadata": {},
   "outputs": [
    {
     "name": "stdout",
     "output_type": "stream",
     "text": [
      "Shape of train_X: (55000, 784)\n",
      "Shape of train_y: (55000, 10)\n",
      "Shape of val_X: (5000, 784)\n",
      "Shape of val_y: (5000, 10)\n",
      "Shape of test_X: (10000, 784)\n",
      "Shape of test_y: (10000, 10)\n"
     ]
    }
   ],
   "source": [
    "print(\"Shape of train_X:\",train_X.shape)\n",
    "print(\"Shape of train_y:\",train_y.shape)\n",
    "print(\"Shape of val_X:\",val_X.shape)\n",
    "print(\"Shape of val_y:\",val_y.shape)\n",
    "print(\"Shape of test_X:\",test_X.shape)\n",
    "print(\"Shape of test_y:\",test_y.shape)"
   ]
  },
  {
   "cell_type": "code",
   "execution_count": 8,
   "metadata": {},
   "outputs": [],
   "source": [
    "mean_image = np.mean(train_X, axis=0)\n",
    "train_X -= mean_image\n",
    "val_X -= mean_image\n",
    "test_X -= mean_image\n",
    "\n",
    "#std=StandardScaler()\n",
    "#std.fit(train_X)\n",
    "#std.transform(train_X)\n",
    "#$std.transform(val_X)\n",
    "#std.transform(test_X)\n",
    "#train_X.head()"
   ]
  },
  {
   "cell_type": "code",
   "execution_count": 9,
   "metadata": {},
   "outputs": [
    {
     "name": "stderr",
     "output_type": "stream",
     "text": [
      "Using TensorFlow backend.\n"
     ]
    }
   ],
   "source": [
    "import matplotlib.pyplot as plt\n",
    "%matplotlib inline\n",
    "from keras.preprocessing.image import ImageDataGenerator\n",
    "datagen_args = dict(featurewise_center=True, \n",
    "                    featurewise_std_normalization=True,\n",
    "                    fill_mode=\"nearest\",\n",
    "                    rotation_range=20,\n",
    "                    width_shift_range=.2,\n",
    "                    zoom_range=0.2,\n",
    "                    zca_whitening=True,\n",
    "                    horizontal_flip=True)\n",
    "\n",
    "datagen = ImageDataGenerator(**datagen_args)\n",
    "datagen.fit(train_X.values.reshape(-1,28,28,1))\n"
   ]
  },
  {
   "cell_type": "code",
   "execution_count": 10,
   "metadata": {
    "collapsed": true
   },
   "outputs": [],
   "source": [
    "def getBatch(i, size, trainFeatures, trainLabels):\n",
    "    startIndex = i * size\n",
    "    endIndex = startIndex + size\n",
    "    batch_X = trainFeatures[startIndex : endIndex]\n",
    "    batch_Y = trainLabels[startIndex : endIndex]\n",
    "    return batch_X, batch_Y\n"
   ]
  },
  {
   "cell_type": "code",
   "execution_count": 11,
   "metadata": {
    "collapsed": true
   },
   "outputs": [],
   "source": [
    "def weight_variable(shape):\n",
    "  initial = tf.truncated_normal(shape, stddev=0.1)\n",
    "  return tf.Variable(initial)\n",
    "\n",
    "def weight_he_init(n_inputs, n_outputs, uniform=True):\n",
    "    init_range = tf.sqrt(2.0 / (n_inputs))\n",
    "    return tf.random_uniform_initializer(-init_range, init_range)\n",
    "\n",
    "\n",
    "def bias_variable(shape):\n",
    "  initial = tf.constant(0.1, shape=shape)\n",
    "  return tf.Variable(initial)\n",
    "\n",
    "def conv2d(x, W):\n",
    "  return tf.nn.conv2d(x, W, strides=[1, 1, 1, 1], padding='SAME')\n",
    "\n",
    "def max_pool_2x2(x):\n",
    "  return tf.nn.max_pool(x, ksize=[1, 2, 2, 1],\n",
    "                        strides=[1, 2, 2, 1], padding='SAME')"
   ]
  },
  {
   "cell_type": "code",
   "execution_count": 12,
   "metadata": {},
   "outputs": [],
   "source": [
    "W_conv1 = tf.get_variable(\"W1\",shape=[3, 3, 1, 32], initializer=weight_he_init(3*3*1, 32))\n",
    "b_conv1 = bias_variable([32])\n",
    "x_image = tf.reshape(X, [-1, 28, 28, 1])\n",
    "h_conv1 = tf.nn.relu(conv2d(x_image, W_conv1) + b_conv1)\n",
    "W_conv0 = tf.get_variable(\"W2\",shape=[3, 3,32,64], initializer=weight_he_init(3*3*32, 64))\n",
    "b_conv0 = bias_variable([64])\n",
    "h_conv0 = tf.nn.relu(conv2d(h_conv1, W_conv0) + b_conv0)\n",
    "h_pool1 = max_pool_2x2(h_conv0)"
   ]
  },
  {
   "cell_type": "code",
   "execution_count": 13,
   "metadata": {},
   "outputs": [],
   "source": [
    "W_conv2 = tf.get_variable(\"W3\",shape=[3, 3, 64, 64], initializer=weight_he_init(3*3*64, 64))\n",
    "b_conv2 = bias_variable([64])\n",
    "h_conv2 = tf.nn.relu(conv2d(h_pool1, W_conv2) + b_conv2)\n",
    "h_pool2 = max_pool_2x2(h_conv2)"
   ]
  },
  {
   "cell_type": "code",
   "execution_count": 14,
   "metadata": {},
   "outputs": [],
   "source": [
    "W_fc1 = tf.get_variable(\"W4\",shape=[7 * 7 * 64, 512], initializer=weight_he_init(7*7*64, 512))\n",
    "b_fc1 = bias_variable([512])\n",
    "\n",
    "h_pool2_flat = tf.reshape(h_pool2, [-1, 7*7*64])\n",
    "h_fc1 = tf.nn.relu(tf.matmul(h_pool2_flat, W_fc1) + b_fc1)"
   ]
  },
  {
   "cell_type": "code",
   "execution_count": 15,
   "metadata": {
    "collapsed": true
   },
   "outputs": [],
   "source": [
    "keep_prob = tf.placeholder(tf.float32)\n",
    "h_fc1_drop = tf.nn.dropout(h_fc1, keep_prob)\n",
    "W_fc2 =tf.get_variable(\"W5\",shape=[512, 10], initializer=weight_he_init(512, 10))\n",
    "b_fc2 = bias_variable([10])\n",
    "\n",
    "y_pred = tf.matmul(h_fc1_drop, W_fc2) + b_fc2"
   ]
  },
  {
   "cell_type": "code",
   "execution_count": 16,
   "metadata": {
    "collapsed": true
   },
   "outputs": [],
   "source": [
    "cross_entropy = tf.reduce_mean(tf.nn.softmax_cross_entropy_with_logits(labels=y, logits=y_pred))\n",
    "train_step = tf.train.AdamOptimizer(1e-4).minimize(cross_entropy)\n",
    "correct_prediction = tf.equal(tf.argmax(y_pred, 1), tf.argmax(y, 1))\n",
    "accuracy = tf.reduce_mean(tf.cast(correct_prediction, tf.float32))\n",
    "saver = tf.train.Saver()\n",
    "n_epochs = 10\n",
    "batch_size = 50\n",
    "val_acc=0"
   ]
  },
  {
   "cell_type": "code",
   "execution_count": 17,
   "metadata": {
    "scrolled": true
   },
   "outputs": [
    {
     "name": "stdout",
     "output_type": "stream",
     "text": [
      "epoch 0, training accuracy: 0.647 ,val accuracy: 0.663\n",
      "Model saved in file: model/model9.ckpt\n",
      "epoch 1, training accuracy: 0.736 ,val accuracy: 0.736\n",
      "Model saved in file: model/model9.ckpt\n",
      "epoch 2, training accuracy: 0.771 ,val accuracy: 0.778\n",
      "Model saved in file: model/model9.ckpt\n",
      "epoch 3, training accuracy: 0.831 ,val accuracy: 0.81\n",
      "Model saved in file: model/model9.ckpt\n",
      "epoch 4, training accuracy: 0.845 ,val accuracy: 0.824\n",
      "Model saved in file: model/model9.ckpt\n",
      "epoch 5, training accuracy: 0.881 ,val accuracy: 0.858\n",
      "Model saved in file: model/model9.ckpt\n",
      "epoch 6, training accuracy: 0.894 ,val accuracy: 0.87\n",
      "Model saved in file: model/model9.ckpt\n",
      "epoch 7, training accuracy: 0.903 ,val accuracy: 0.871\n",
      "Model saved in file: model/model9.ckpt\n",
      "epoch 8, training accuracy: 0.929 ,val accuracy: 0.881\n",
      "Model saved in file: model/model9.ckpt\n",
      "epoch 9, training accuracy: 0.925 ,val accuracy: 0.881\n"
     ]
    }
   ],
   "source": [
    "with tf.Session() as sess:\n",
    "  sess.run(tf.global_variables_initializer())\n",
    "  for epoch in range(n_epochs):\n",
    "        n_batches = train_X.shape[0]//batch_size\n",
    "        batches=0\n",
    "        for i in range(n_batches):\n",
    "            batch_X,batch_Y = getBatch(i, batch_size, train_X, train_y)\n",
    "            train_step.run(feed_dict={X: batch_X, y: batch_Y, keep_prob: 0.5})\n",
    "        for batch_X,batch_Y in datagen.flow(train_X.values.reshape(-1,28,28,1),train_y, batch_size=50):\n",
    "             batches += 1\n",
    "             train_step.run(feed_dict={X: batch_X.reshape(-1,784), y: batch_Y, keep_prob: 0.5})\n",
    "             if batches >= len(train_X) / 50:\n",
    "                    break\n",
    "              \n",
    "        train_accuracy = accuracy.eval(feed_dict={X: train_X[:1000], y: train_y[:1000], keep_prob: 1.0})\n",
    "        val_accuracy = accuracy.eval(feed_dict={X: val_X[:1000], y: val_y[:1000], keep_prob: 1.0})\n",
    "        print('epoch %d, training accuracy: %g ,val accuracy: %g' % (epoch, train_accuracy,val_accuracy))\n",
    "        if (val_acc < val_accuracy):\n",
    "              val_acc= val_accuracy\n",
    "              save_path = saver.save(sess, \"model/model9.ckpt\")\n",
    "              print(\"Model saved in file: %s\" % save_path)\n",
    "  "
   ]
  },
  {
   "cell_type": "code",
   "execution_count": null,
   "metadata": {},
   "outputs": [],
   "source": []
  },
  {
   "cell_type": "code",
   "execution_count": null,
   "metadata": {},
   "outputs": [],
   "source": []
  },
  {
   "cell_type": "code",
   "execution_count": 19,
   "metadata": {},
   "outputs": [
    {
     "name": "stdout",
     "output_type": "stream",
     "text": [
      "INFO:tensorflow:Restoring parameters from model/model9.ckpt\n",
      "val accuracy: 0.898374\n",
      "val accuracy: 0.960707\n",
      "val accuracy: 0.792079\n",
      "val accuracy: 0.905697\n",
      "val accuracy: 0.865079\n",
      "val accuracy: 0.94958\n",
      "val accuracy: 0.552147\n",
      "val accuracy: 0.950787\n",
      "val accuracy: 0.965863\n",
      "val accuracy: 0.968627\n",
      " training accuracy: 0.8905 ,val accuracy: 0.8835\n"
     ]
    }
   ],
   "source": [
    "\n",
    "with tf.Session() as sess:\n",
    "   saver.restore(sess,\"model/model9.ckpt\")\n",
    "#   train_accuracy = accuracy.eval(feed_dict={X: train_X[:10000], y: train_y[:10000], keep_prob: 1.0})\n",
    "   for i in range(10):\n",
    "      val_accuracy = accuracy.eval(feed_dict={X: val_X[val_y[:][i]==1], y: val_y[val_y[:][i]==1], keep_prob: 1.0})\n",
    "      print('val accuracy: %g' % (val_accuracy))\n",
    "   train_accuracy = accuracy.eval(feed_dict={X: train_X[3000:5000], y:train_y[3000:5000], keep_prob: 1.0})\n",
    "   val_accuracy = accuracy.eval(feed_dict={X: val_X[3000:5000], y: val_y[3000:5000], keep_prob: 1.0})\n",
    "   print(' training accuracy: %g ,val accuracy: %g' % (train_accuracy,val_accuracy))"
   ]
  },
  {
   "cell_type": "code",
   "execution_count": 17,
   "metadata": {},
   "outputs": [
    {
     "name": "stdout",
     "output_type": "stream",
     "text": [
      "INFO:tensorflow:Restoring parameters from model/model9.ckpt\n",
      "val accuracy: 0.635992\n"
     ]
    }
   ],
   "source": [
    "with tf.Session() as sess:\n",
    "   saver.restore(sess,\"model/model9.ckpt\")\n",
    "#   train_accuracy = accuracy.eval(feed_dict={X: train_X[:10000], y: train_y[:10000], keep_prob: 1.0})\n",
    "   val_accuracy = accuracy.eval(feed_dict={X: val_X[val_y[:][6]==1], y: val_y[val_y[:][6]==1], keep_prob: 1.0})\n",
    "   res6=sess.run(tf.argmax(y_pred, 1), feed_dict={X:val_X[val_y[:][6]==1],y: val_y[val_y[:][6]==1], keep_prob: 1.0})\n",
    "   res0=sess.run(tf.argmax(y_pred, 1), feed_dict={X:val_X[val_y[:][0]==1],y: val_y[val_y[:][0]==1], keep_prob: 1.0})\n",
    "   res2=sess.run(tf.argmax(y_pred, 1), feed_dict={X:val_X[val_y[:][2]==1],y: val_y[val_y[:][2]==1], keep_prob: 1.0})\n",
    "   res4=sess.run(tf.argmax(y_pred, 1), feed_dict={X:val_X[val_y[:][4]==1],y: val_y[val_y[:][4]==1], keep_prob: 1.0})\n",
    "   print('val accuracy: %g' % (val_accuracy))"
   ]
  },
  {
   "cell_type": "code",
   "execution_count": null,
   "metadata": {},
   "outputs": [],
   "source": [
    "import matplotlib.pyplot as plt\n",
    "val_y.sum(axis=0).plot()\n",
    "plt.show()"
   ]
  },
  {
   "cell_type": "code",
   "execution_count": null,
   "metadata": {},
   "outputs": [],
   "source": [
    "\n",
    "    "
   ]
  },
  {
   "cell_type": "code",
   "execution_count": null,
   "metadata": {},
   "outputs": [],
   "source": []
  },
  {
   "cell_type": "code",
   "execution_count": null,
   "metadata": {},
   "outputs": [],
   "source": [
    "x=batch_X.values[0:3]\n",
    "yy=batch_Y.values[0:3]\n",
    "x.shape[0]"
   ]
  },
  {
   "cell_type": "code",
   "execution_count": null,
   "metadata": {},
   "outputs": [],
   "source": [
    "x=x.reshape(-1,28,28,1)"
   ]
  },
  {
   "cell_type": "code",
   "execution_count": null,
   "metadata": {},
   "outputs": [],
   "source": []
  },
  {
   "cell_type": "code",
   "execution_count": null,
   "metadata": {},
   "outputs": [],
   "source": []
  },
  {
   "cell_type": "code",
   "execution_count": null,
   "metadata": {},
   "outputs": [],
   "source": [
    "\n"
   ]
  },
  {
   "cell_type": "code",
   "execution_count": null,
   "metadata": {
    "collapsed": true
   },
   "outputs": [],
   "source": []
  },
  {
   "cell_type": "code",
   "execution_count": null,
   "metadata": {
    "collapsed": true
   },
   "outputs": [],
   "source": []
  },
  {
   "cell_type": "code",
   "execution_count": null,
   "metadata": {
    "collapsed": true
   },
   "outputs": [],
   "source": []
  },
  {
   "cell_type": "code",
   "execution_count": null,
   "metadata": {
    "collapsed": true
   },
   "outputs": [],
   "source": []
  },
  {
   "cell_type": "code",
   "execution_count": null,
   "metadata": {
    "collapsed": true
   },
   "outputs": [],
   "source": []
  },
  {
   "cell_type": "code",
   "execution_count": null,
   "metadata": {
    "collapsed": true
   },
   "outputs": [],
   "source": []
  }
 ],
 "metadata": {
  "kernelspec": {
   "display_name": "Python 3",
   "language": "python",
   "name": "python3"
  },
  "language_info": {
   "codemirror_mode": {
    "name": "ipython",
    "version": 3
   },
   "file_extension": ".py",
   "mimetype": "text/x-python",
   "name": "python",
   "nbconvert_exporter": "python",
   "pygments_lexer": "ipython3",
   "version": "3.6.2"
  }
 },
 "nbformat": 4,
 "nbformat_minor": 2
}
